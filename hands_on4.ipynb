{
  "nbformat": 4,
  "nbformat_minor": 0,
  "metadata": {
    "colab": {
      "provenance": []
    },
    "kernelspec": {
      "name": "python3",
      "display_name": "Python 3"
    },
    "language_info": {
      "name": "python"
    }
  },
  "cells": [
    {
      "cell_type": "markdown",
      "source": [
        "# Problem 0\n",
        "\n",
        "Implement the Fibonacci sequence\n",
        "\n",
        "\n",
        "\n",
        "```\n",
        "x = fib(n)\n",
        "\n",
        "    if n == 0\n",
        "\n",
        "        return 0\n",
        "\n",
        "    if n == 1\n",
        "\n",
        "         return 1\n",
        "\n",
        "    return fib(n-1) + fib(n-2)\n",
        "```\n",
        "\n",
        "\n",
        "Debug the code and \"step into\" the function for fib(5). I want you to step into all recursive calls and list out the the function call stack ex. fib(5) -> fib(4) -> fib(3) ?....  that you observe.\n",
        "\n",
        "Another note make sure to implement the return exactly as\n",
        "\n",
        "return fib(n-1) + fib(n-2)\n",
        "\n"
      ],
      "metadata": {
        "id": "9C5o1mpt_tLC"
      }
    },
    {
      "cell_type": "code",
      "source": [
        "def fib(n):\n",
        "    if n == 0:\n",
        "        return 0\n",
        "    if n == 1:\n",
        "        return 1\n",
        "    return fib(n-1) + fib(n-2)\n",
        "\n",
        "# Example usage:\n",
        "result = fib(5)\n",
        "print(result)  # Output will be 5"
      ],
      "metadata": {
        "colab": {
          "base_uri": "https://localhost:8080/"
        },
        "id": "wGzsTEEP-Hj7",
        "outputId": "b1f2fe52-162d-4f43-beb5-bfc136c8ed7c"
      },
      "execution_count": 3,
      "outputs": [
        {
          "output_type": "stream",
          "name": "stdout",
          "text": [
            "5\n"
          ]
        }
      ]
    },
    {
      "cell_type": "markdown",
      "source": [
        "fib(5) calls fib(4) and fib(3)\n",
        "\n",
        "fib(4) calls fib(3) and fib(2):\n",
        "\n",
        "fib(3) calls fib(2) and fib(1):\n",
        "\n",
        "fib(2) calls fib(1) and fib(0):\n",
        "\n",
        "Since fib(1) is a base case, it returns 1.\n",
        "Since fib(0) is a base case, it returns 0.\n",
        "\n",
        "\n",
        "Fib(5) -> Fib(4) + Fib(3) = 3 + 2 = 5\n",
        "\n",
        "Fib(4) -> Fib(3) + Fib(2) = 2 + 1 = 3\n",
        "\n",
        "Fib(3) -> Fib(2) + Fib(1) = 1 + 1 = 2\n",
        "\n",
        "Fib(2) -> Fib(1) + Fib(0) = 1 + 0 = 1  \n",
        "\n",
        "\n",
        "So, the function call stack for fib(5) looks like this:\n"
      ],
      "metadata": {
        "id": "DSRBEObKAuEZ"
      }
    },
    {
      "cell_type": "code",
      "source": [
        "fib(5) -> fib(4) -> fib(3) -> fib(2) -> fib(1) -> fib(0)\n",
        "                      |       |\n",
        "                      |       -> fib(1)\n",
        "                      |\n",
        "                      -> fib(2) -> fib(1) -> fib(0)\n",
        "                               |\n",
        "                               -> fib(1)\n"
      ],
      "metadata": {
        "id": "jMp1Xp6_TLIZ"
      },
      "execution_count": null,
      "outputs": []
    },
    {
      "cell_type": "markdown",
      "source": [
        "\n",
        "\n",
        "# **Problem 1**\n",
        "\n",
        "Given K sorted arrays of size N each, the task is to merge them all maintaining their sorted order.\n",
        "\n",
        "Examples:\n",
        "\n",
        "Input: K = 3, N =  4\n",
        "array1 = [1,3,5,7]\n",
        "array2 = [2,4,6,8]\n",
        "array3 = [0,9,10,11]\n",
        "Output: [0,1,2,3,4,5,6,7,8,9,10,11]\n",
        "Merged array in a sorted order where every element is greater than the previous element.\n",
        "\n",
        "Input: K = 3, N =  3\n",
        "array1 = [1,3,7]\n",
        "array2 = [2,4,8]\n",
        "array3 = [9,10,11]\n",
        "Output: [1,2,3,4,7,8,9,10,11]\n",
        "Merged array in a sorted order where every element is greater than the previous element."
      ],
      "metadata": {
        "id": "MGgDotSDA28j"
      }
    },
    {
      "cell_type": "code",
      "source": [
        "import heapq\n",
        "\n",
        "def merge_sorted_arrays(arrays):\n",
        "    merged_array = []\n",
        "    heap = []\n",
        "\n",
        "    # Push the first element of each array into the heap\n",
        "    for i, array in enumerate(arrays):\n",
        "        if array:  # Ensure the array is not empty\n",
        "            heapq.heappush(heap, (array[0], i, 0))  # (element, array_index, index_within_array)\n",
        "\n",
        "    # Continue until the heap is empty\n",
        "    while heap:\n",
        "        val, array_idx, idx_within_array = heapq.heappop(heap)\n",
        "        merged_array.append(val)\n",
        "\n",
        "        # Move to the next element in the array from which the popped element was extracted\n",
        "        idx_within_array += 1\n",
        "        if idx_within_array < len(arrays[array_idx]):\n",
        "            heapq.heappush(heap, (arrays[array_idx][idx_within_array], array_idx, idx_within_array))\n",
        "\n",
        "    return merged_array\n",
        "\n",
        "# Example usage:\n",
        "array1 = [1,3,7]\n",
        "array2 = [2,4,8]\n",
        "array3 = [9,10,11]\n",
        "\n",
        "merged = merge_sorted_arrays([array1, array2, array3])\n",
        "print(merged)\n"
      ],
      "metadata": {
        "colab": {
          "base_uri": "https://localhost:8080/"
        },
        "id": "TH4UXWdrOqD-",
        "outputId": "62d58232-1264-4f9e-f8cd-ff66500c77f6"
      },
      "execution_count": 5,
      "outputs": [
        {
          "output_type": "stream",
          "name": "stdout",
          "text": [
            "[1, 2, 3, 4, 7, 8, 9, 10, 11]\n"
          ]
        }
      ]
    },
    {
      "cell_type": "markdown",
      "source": [
        "### **Prove the time complexity of the algorithms**\n",
        "\n",
        "\n",
        "The time complexity of the algorithm for merging K sorted arrays of size N each using a min-heap approach is O(N * K * log(K)). Here's the breakdown:\n",
        "\n",
        "Building the initial min-heap involves pushing the first element from each of the K arrays onto the heap. Since there are K arrays, this operation has a time complexity of O(K * log(K)).\n",
        "\n",
        " In each iteration of extracting elements and maintaining the heap, we extract the smallest element from the heap and then push the next element from the same array onto the heap. The number of iterations needed to extract all elements is N * K, as there are N elements in each of the K arrays. In each iteration, pushing and popping from the heap takes O(log(K)) time.\n",
        "\n",
        "Combining these factors, the total time complexity is O(K * log(K)) for building the initial heap and O(N * K * log(K)) for extracting elements and maintaining the heap. So, the overall time complexity is O(N * K*log(K))\n",
        "\n",
        "\n",
        "### **Ways to improve your implementation**\n",
        "\n",
        " If the number of arrays (K) is large and the arrays are of substantial size, we could explore multithreading techniques to parallelize the process of merging arrays. Each thread could work on merging a subset of arrays, potentially speeding up the overall process.\n"
      ],
      "metadata": {
        "id": "h4uZpiG8V3da"
      }
    },
    {
      "cell_type": "markdown",
      "source": [
        "# **Problem 2**\n",
        "\n",
        " Given a sorted array array of size N, the task is to remove the duplicate elements from the array.\n",
        "\n",
        "Examples:\n",
        "\n",
        "Input: array = [2, 2, 2, 2, 2]\n",
        "\n",
        "Output: array= [2]\n",
        "\n",
        "Explanation: All the elements are 2, So only keep one instance of 2.\n",
        "\n",
        "Input: array = [1, 2, 2, 3, 4, 4, 4, 5, 5]\n",
        "\n",
        "Output: array[] = {1, 2, 3, 4, 5}\n",
        "\n",
        "Note, you can't use something like the set container in C++."
      ],
      "metadata": {
        "id": "XWzO4zI2BG68"
      }
    },
    {
      "cell_type": "code",
      "source": [
        "def remove_duplicates(array):\n",
        "    if not array:\n",
        "        return []\n",
        "\n",
        "    # Initialize pointers\n",
        "    i = 0\n",
        "\n",
        "    # Iterate through the array\n",
        "    for j in range(1, len(array)):\n",
        "        # If the current element is different from the element at i,\n",
        "        # update i and copy the current element to its new position\n",
        "        if array[j] != array[i]:\n",
        "            i += 1\n",
        "            array[i] = array[j]\n",
        "\n",
        "    # Slice the array to get the unique elements\n",
        "    return array[:i + 1]\n",
        "\n",
        "# Example usage:\n",
        "array1 = [2, 2, 2, 2, 2]\n",
        "array2 = [1, 2, 2, 3, 4, 4, 4, 5, 5]\n",
        "\n",
        "print(\"Input:\", array1)\n",
        "print(\"Output:\", remove_duplicates(array1))\n",
        "\n",
        "print(\"Input:\", array2)\n",
        "print(\"Output:\", remove_duplicates(array2))\n"
      ],
      "metadata": {
        "colab": {
          "base_uri": "https://localhost:8080/"
        },
        "id": "tNpvU_8Vdme_",
        "outputId": "35a5893d-c0b2-4c55-e0e7-c0ebee5edd93"
      },
      "execution_count": 6,
      "outputs": [
        {
          "output_type": "stream",
          "name": "stdout",
          "text": [
            "Input: [2, 2, 2, 2, 2]\n",
            "Output: [2]\n",
            "Input: [1, 2, 2, 3, 4, 4, 4, 5, 5]\n",
            "Output: [1, 2, 3, 4, 5]\n"
          ]
        }
      ]
    },
    {
      "cell_type": "markdown",
      "source": [
        "### **Prove the time complexity of the algorithms and Ways to improve**\n",
        "\n",
        "This algorithm has a time complexity of O(n) since it iterates through the array only once. It modifies the array in place to store the unique elements.\n",
        "\n",
        " Here is the way to potentially improve the implementation of the algorithm :\n",
        "\n",
        " We can ttilize a set to keep track of unique elements encountered during the iteration. This can improve lookup time for duplicate detection, especially for larger arrays.\n"
      ],
      "metadata": {
        "id": "Fj6YNMmqds9G"
      }
    }
  ]
}